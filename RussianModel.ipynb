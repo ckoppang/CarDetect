{
  "nbformat": 4,
  "nbformat_minor": 0,
  "metadata": {
    "colab": {
      "provenance": [],
      "authorship_tag": "ABX9TyNUiNQGObxLf/IqoxaGm1tv"
    },
    "kernelspec": {
      "name": "python3",
      "display_name": "Python 3"
    },
    "language_info": {
      "name": "python"
    }
  },
  "cells": [
    {
      "cell_type": "code",
      "execution_count": 1,
      "metadata": {
        "id": "fA5ieuIazdWt"
      },
      "outputs": [],
      "source": [
        "import cv2\n",
        "import numpy as np\n",
        "\n",
        "# Load the pre-trained Haar Cascade classifier for license plate detection\n",
        "plate_cascade = cv2.CascadeClassifier(cv2.data.haarcascades + 'haarcascade_russian_plate_number.xml')\n",
        "\n",
        "# Function to detect license plates within a given frame\n",
        "def detect_license_plates(frame, car_boxes):\n",
        "    license_plates = []\n",
        "\n",
        "    for idx, (x, y, w, h) in car_boxes.iterrows():\n",
        "        # Extract the region of interest (ROI) corresponding to the car\n",
        "        roi = frame[y:y+h, x:x+w]\n",
        "\n",
        "        # Convert the ROI to grayscale (Haar Cascades work better on grayscale images)\n",
        "        gray_roi = cv2.cvtColor(roi, cv2.COLOR_BGR2GRAY)\n",
        "\n",
        "        # Use the classifier to detect license plates within the ROI\n",
        "        plates = plate_cascade.detectMultiScale(gray_roi, scaleFactor=1.1, minNeighbors=4, minSize=(30, 30))\n",
        "\n",
        "        # Iterate over the detected plates and adjust coordinates relative to the full frame\n",
        "        for (px, py, pw, ph) in plates:\n",
        "            # The detected plate coordinates are relative to the ROI, so we need to adjust them\n",
        "            absolute_plate_position = (x + px, y + py, pw, ph)\n",
        "            license_plates.append(absolute_plate_position)\n",
        "\n",
        "    return license_plates\n",
        "\n",
        "# Example usage within your video processing loop\n",
        "def process_video(video_path):\n",
        "    cap = cv2.VideoCapture(video_path)\n",
        "\n",
        "    while cap.isOpened():\n",
        "        ret, frame = cap.read()\n",
        "        if not ret:\n",
        "            break\n",
        "\n",
        "        # Assume car_boxes is a DataFrame with car bounding boxes for the current frame\n",
        "        # car_boxes = detect_cars(frame)  # This should be your car detection code\n",
        "\n",
        "        # Detect license plates in the current frame\n",
        "        plates = detect_license_plates(frame, car_boxes)\n",
        "\n",
        "        # Draw rectangles around the detected license plates\n",
        "        for (x, y, w, h) in plates:\n",
        "            cv2.rectangle(frame, (x, y), (x+w, y+h), (0, 255, 0), 2)\n",
        "\n",
        "        # Display the frame with the detected plates\n",
        "        cv2.imshow('License Plate Detection', frame)\n",
        "\n",
        "        # Break the loop if the user presses the 'q' key\n",
        "        if cv2.waitKey(1) & 0xFF == ord('q'):\n",
        "            break\n",
        "\n",
        "    cap.release()\n",
        "    cv2.destroyAllWindows()\n",
        "\n",
        "process_video('/content/sample_data/GX1300015.mp4')"
      ]
    }
  ]
}