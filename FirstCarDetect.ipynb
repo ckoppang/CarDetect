{
  "nbformat": 4,
  "nbformat_minor": 0,
  "metadata": {
    "colab": {
      "provenance": [],
      "mount_file_id": "1-61ZIScMQx65yX3L-pXNVbmO7DmmrnIg",
      "authorship_tag": "ABX9TyMLAapF1DxEFUI8ckUBha9Q"
    },
    "kernelspec": {
      "name": "python3",
      "display_name": "Python 3"
    },
    "language_info": {
      "name": "python"
    }
  },
  "cells": [
    {
      "cell_type": "code",
      "execution_count": null,
      "metadata": {
        "id": "LNf5Yb-uQipR"
      },
      "outputs": [],
      "source": [
        "# do this once to install dependencies\n",
        "# !pip install opencv-python-headless\n",
        "# !pip install torch torchvision\n",
        "\n",
        "import cv2\n",
        "import torch\n",
        "import gc\n",
        "\n",
        "# load YOLOv5 model\n",
        "model = torch.hub.load(\"ultralytics/yolov5\", \"yolov5s\")\n",
        "\n",
        "# open mp4 - needs to be pre-uploaded\n",
        "filepath = \"/content/sample_data/GX120010.mp4\"\n",
        "cap = cv2.VideoCapture(filepath)\n",
        "\n",
        "if cap.isOpened() == False:\n",
        "    print(\"Error opening video file [\" + filepath + \"]\")\n",
        "    exit()\n",
        "\n",
        "try:\n",
        "  while True: # loop until nothing to read\n",
        "      ret, frame = cap.read()\n",
        "\n",
        "      if not ret:\n",
        "          break\n",
        "\n",
        "      # pass the current frame to the model\n",
        "      results = model(frame)\n",
        "\n",
        "      # ask the model to detect objects is trained in\n",
        "      detected_objects = results.pandas().xyxy[0]\n",
        "\n",
        "      # check if any cars were found\n",
        "      for idx, row in detected_objects.iterrows():\n",
        "\n",
        "          if row[\"name\"] in {\"car\", \"truck\"}:\n",
        "              print(\"Car detected at coordinates:\", row[\"xmin\"], row[\"ymin\"], row[\"xmax\"], row[\"ymax\"])\n",
        "\n",
        "except Exception as e:\n",
        "  print(e);\n",
        "\n",
        "finally:\n",
        "  cap.release()\n",
        "  gc.collect() # newbie Colab specific, not sure how much is hanging around after each run since I got an OOM error once"
      ]
    }
  ]
}